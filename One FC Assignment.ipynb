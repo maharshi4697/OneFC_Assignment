{
 "cells": [
  {
   "cell_type": "code",
   "execution_count": 400,
   "metadata": {},
   "outputs": [],
   "source": [
    "from jsonschema import validate\n",
    "import json\n",
    "import csv\n",
    "import pandas as pd\n",
    "import click\n",
    "import re"
   ]
  },
  {
   "cell_type": "code",
   "execution_count": 401,
   "metadata": {},
   "outputs": [],
   "source": [
    "def paths(csv_path,schema_path,output_path):\n",
    "    csv_file_path = csv_path\n",
    "    json_schema_path= schema_path\n",
    "    json_output_path= output_path\n",
    "    return csv_file_path,json_schema_path,json_output_path"
   ]
  },
  {
   "cell_type": "code",
   "execution_count": 402,
   "metadata": {},
   "outputs": [],
   "source": [
    "def read_json_schema(path):\n",
    "    with open(path) as f:\n",
    "        schema = json.load(f)\n",
    "    return schema"
   ]
  },
  {
   "cell_type": "code",
   "execution_count": 403,
   "metadata": {},
   "outputs": [],
   "source": [
    "def read_csv(path):\n",
    "    df=pd.read_csv(path)\n",
    "    return df"
   ]
  },
  {
   "cell_type": "code",
   "execution_count": 404,
   "metadata": {},
   "outputs": [],
   "source": [
    "def transformations(df,schema):\n",
    "    df.columns = schema['properties'].keys()\n",
    "    df.iloc[:, 0]=df.iloc[:, 0].apply(str)\n",
    "    df_out=df.to_dict(into=OrderedDict,orient='index')\n",
    "    return df_out"
   ]
  },
  {
   "cell_type": "code",
   "execution_count": 405,
   "metadata": {},
   "outputs": [],
   "source": [
    "def data_validation(df):\n",
    "    person_id_pattern=re.compile(r'^[0-9]+$')\n",
    "    date_pattern=re.compile(r'^([1-9]|[1][0-2])[/]([1-9]|[1,2]\\d|[3][0,1])[/](\\d\\d)\\s([1]{0,1}\\d|[2][0-3])[:]([0-5]\\d)+$')\n",
    "    floor_access_pattern=re.compile(r'^\\d{0,1}\\d{1}$')\n",
    "    building_pattern=re.compile(r'^[A-C]$')\n",
    "    error_row=[]\n",
    "    error_column=[]\n",
    "    col1=[]\n",
    "    col2=[]\n",
    "    col3=[]\n",
    "    col4=[]\n",
    "    for i in df: \n",
    "        if(re.search(person_id_pattern,list(df[i].values())[0]))==None:\n",
    "            error_row.append(df[i])\n",
    "            error_column.append(list(df[i].keys())[0])\n",
    "        elif(re.search(date_pattern,list(df[i].values())[1]))==None:\n",
    "            error_row.append(df[i])\n",
    "            error_column.append(list(df[i].keys())[1])\n",
    "        elif(re.search(floor_access_pattern,str(list(df[i].values())[2])))==None:\n",
    "            error_row.append(json.dumps(df[i]))\n",
    "            error_column.append(list(df[i].keys())[2])\n",
    "        elif(re.search(building_pattern,list(df[i].values())[3]))==None:\n",
    "            error_row.append(json.dumps(df[i]))\n",
    "            error_column.append(list(df[i].keys())[3])\n",
    "        else:\n",
    "            col1.append(list(df[i].values())[0])\n",
    "            col2.append(list(df[i].values())[1])\n",
    "            col3.append((list(df[i].values())[2]))\n",
    "            col4.append(list(df[i].values())[3])\n",
    "    correct_df=pd.DataFrame({list(df[0].keys())[0]:col1,list(df[i].keys())[1]:col2,list(df[0].keys())[2]:col3,list(df[i].keys())[3]:col4})\n",
    "    correct=correct_df.to_dict(into=OrderedDict,orient='index')\n",
    "    error_df=pd.DataFrame({'error_row':error_row,'error_column':error_column})  \n",
    "    if error_df.empty==False:\n",
    "        errors=error_df.to_dict(into=OrderedDict,orient='index')  \n",
    "        return correct,errors\n",
    "    else:\n",
    "        return correct,None"
   ]
  },
  {
   "cell_type": "code",
   "execution_count": 406,
   "metadata": {},
   "outputs": [],
   "source": [
    "def schema_validation(df,schema):\n",
    "    error_row=[]\n",
    "    error_column=[]\n",
    "    for i in df:   \n",
    "        try:\n",
    "            validate(instance=df[i], schema=schema)\n",
    "        except Exception as e: \n",
    "            error_row.append(df[i])\n",
    "            error_column.append(e, \"Occured at \",df[i])\n",
    "    error_df=pd.DataFrame({'error_row':error_row,'error_column':error_column})\n",
    "    if error_df.empty==False:\n",
    "        errors=error_df.to_dict(into=OrderedDict,orient='index')  \n",
    "        return errors"
   ]
  },
  {
   "cell_type": "code",
   "execution_count": 407,
   "metadata": {},
   "outputs": [],
   "source": [
    "def output_json(df,path):\n",
    "    output_file = open(path, 'w', encoding='utf-8')\n",
    "    for i in df:\n",
    "        json.dump(df[i], output_file, indent=4)\n",
    "        output_file.write(\"\\n\")"
   ]
  },
  {
   "cell_type": "code",
   "execution_count": 419,
   "metadata": {},
   "outputs": [],
   "source": [
    "def run():\n",
    "    csv_file_path = '/Users/maharshichattopadhyay/Downloads/data2.csv'\n",
    "    json_schema_path= '/Users/maharshichattopadhyay/Downloads/schema.json'\n",
    "    json_output_path= '/Users/maharshichattopadhyay/Downloads/output_json.json'\n",
    "    errors_output_path = '/Users/maharshichattopadhyay/Downloads/errors.json'\n",
    "    csv_file_path,json_schema_path,json_output_path=paths(csv_file_path,json_schema_path,json_output_path)\n",
    "    json_schema=read_json_schema(json_schema_path)\n",
    "    input_df=read_csv(csv_file_path)\n",
    "    df_transform=transformations(input_df,json_schema)\n",
    "    correct,errors_data=data_validation(df_transform)\n",
    "    errors_schema=schema_validation(df_transform,schema)\n",
    "    if errors_data is not None and errors_schema is not None:\n",
    "        errors_data.update(errors_schema)\n",
    "        errors=errors_data\n",
    "    elif errors_data is None and errors_schema is not None:\n",
    "        errors=errors_schema\n",
    "    elif errors_schema is None and errors_schema is None:\n",
    "        errors=errors_data\n",
    "    output_json(correct,json_output_path)\n",
    "    if errors!=None:\n",
    "        output_json(errors,errors_output_path)"
   ]
  },
  {
   "cell_type": "code",
   "execution_count": 420,
   "metadata": {
    "scrolled": true
   },
   "outputs": [],
   "source": [
    "if __name__ == \"__main__\":\n",
    "    run()"
   ]
  },
  {
   "cell_type": "code",
   "execution_count": null,
   "metadata": {},
   "outputs": [],
   "source": []
  }
 ],
 "metadata": {
  "kernelspec": {
   "display_name": "Python 3",
   "language": "python",
   "name": "python3"
  },
  "language_info": {
   "codemirror_mode": {
    "name": "ipython",
    "version": 3
   },
   "file_extension": ".py",
   "mimetype": "text/x-python",
   "name": "python",
   "nbconvert_exporter": "python",
   "pygments_lexer": "ipython3",
   "version": "3.7.1"
  }
 },
 "nbformat": 4,
 "nbformat_minor": 2
}
